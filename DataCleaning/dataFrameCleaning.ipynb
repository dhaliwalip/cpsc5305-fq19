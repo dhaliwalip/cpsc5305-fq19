{
 "cells": [
  {
   "cell_type": "code",
   "execution_count": 1,
   "metadata": {},
   "outputs": [],
   "source": [
    "import pandas as pd\n",
    "import numpy as np \n",
    "%matplotlib inline"
   ]
  },
  {
   "cell_type": "code",
   "execution_count": 66,
   "metadata": {},
   "outputs": [],
   "source": [
    "## Error -- read_table vs read_csv\n",
    "songs = pd.read_csv(\"rock.csv\")"
   ]
  },
  {
   "cell_type": "code",
   "execution_count": 5,
   "metadata": {},
   "outputs": [
    {
     "name": "stdout",
     "output_type": "stream",
     "text": [
      "<class 'pandas.core.frame.DataFrame'>\n",
      "RangeIndex: 2230 entries, 0 to 2229\n",
      "Data columns (total 8 columns):\n",
      "Song Clean      2230 non-null object\n",
      "ARTIST CLEAN    2230 non-null object\n",
      "Release Year    1653 non-null object\n",
      "COMBINED        2230 non-null object\n",
      "First?          2230 non-null int64\n",
      "Year?           2230 non-null int64\n",
      "PlayCount       2230 non-null int64\n",
      "F*G             2230 non-null int64\n",
      "dtypes: int64(4), object(4)\n",
      "memory usage: 139.5+ KB\n"
     ]
    }
   ],
   "source": [
    "songs.info()"
   ]
  },
  {
   "cell_type": "code",
   "execution_count": 67,
   "metadata": {},
   "outputs": [],
   "source": [
    "## Rename columns so they are proper variable names\n",
    "\n",
    "songs = songs[['Song Clean', 'Release Year', 'Year?']]\n",
    "songs.rename(columns={'Song Clean': 'title', 'Release Year': 'releaseYear', 'Year?': 'year'}, inplace=True)"
   ]
  },
  {
   "cell_type": "code",
   "execution_count": 21,
   "metadata": {},
   "outputs": [
    {
     "data": {
      "text/html": [
       "<div>\n",
       "<style scoped>\n",
       "    .dataframe tbody tr th:only-of-type {\n",
       "        vertical-align: middle;\n",
       "    }\n",
       "\n",
       "    .dataframe tbody tr th {\n",
       "        vertical-align: top;\n",
       "    }\n",
       "\n",
       "    .dataframe thead th {\n",
       "        text-align: right;\n",
       "    }\n",
       "</style>\n",
       "<table border=\"1\" class=\"dataframe\">\n",
       "  <thead>\n",
       "    <tr style=\"text-align: right;\">\n",
       "      <th></th>\n",
       "      <th>title</th>\n",
       "      <th>releaseYear</th>\n",
       "      <th>year</th>\n",
       "    </tr>\n",
       "  </thead>\n",
       "  <tbody>\n",
       "    <tr>\n",
       "      <th>0</th>\n",
       "      <td>Caught Up in You</td>\n",
       "      <td>1982</td>\n",
       "      <td>1</td>\n",
       "    </tr>\n",
       "    <tr>\n",
       "      <th>1</th>\n",
       "      <td>Fantasy Girl</td>\n",
       "      <td>NaN</td>\n",
       "      <td>0</td>\n",
       "    </tr>\n",
       "    <tr>\n",
       "      <th>2</th>\n",
       "      <td>Hold On Loosely</td>\n",
       "      <td>1981</td>\n",
       "      <td>1</td>\n",
       "    </tr>\n",
       "    <tr>\n",
       "      <th>3</th>\n",
       "      <td>Rockin' Into the Night</td>\n",
       "      <td>1980</td>\n",
       "      <td>1</td>\n",
       "    </tr>\n",
       "    <tr>\n",
       "      <th>4</th>\n",
       "      <td>Art For Arts Sake</td>\n",
       "      <td>1975</td>\n",
       "      <td>1</td>\n",
       "    </tr>\n",
       "  </tbody>\n",
       "</table>\n",
       "</div>"
      ],
      "text/plain": [
       "                    title releaseYear  year\n",
       "0        Caught Up in You        1982     1\n",
       "1            Fantasy Girl         NaN     0\n",
       "2         Hold On Loosely        1981     1\n",
       "3  Rockin' Into the Night        1980     1\n",
       "4       Art For Arts Sake        1975     1"
      ]
     },
     "execution_count": 21,
     "metadata": {},
     "output_type": "execute_result"
    }
   ],
   "source": [
    "songs.head()"
   ]
  },
  {
   "cell_type": "code",
   "execution_count": 37,
   "metadata": {},
   "outputs": [
    {
     "data": {
      "text/plain": [
       "0"
      ]
     },
     "execution_count": 37,
     "metadata": {},
     "output_type": "execute_result"
    }
   ],
   "source": [
    "# Does Year? really just mean Release year is missing?\n",
    "songs.releaseYear[(songs.year == 0) & (pd.notnull(songs.releaseYear))]"
   ]
  },
  {
   "cell_type": "code",
   "execution_count": 60,
   "metadata": {},
   "outputs": [
    {
     "data": {
      "text/plain": [
       "577"
      ]
     },
     "execution_count": 60,
     "metadata": {},
     "output_type": "execute_result"
    }
   ],
   "source": [
    "sum(pd.isnull(songs.releaseYear))"
   ]
  },
  {
   "cell_type": "code",
   "execution_count": 56,
   "metadata": {},
   "outputs": [
    {
     "data": {
      "text/plain": [
       "1071               1\n",
       "1955               1\n",
       "1958               1\n",
       "1961               1\n",
       "1962               3\n",
       "1963               9\n",
       "1964              14\n",
       "1965              28\n",
       "1966              30\n",
       "1967              61\n",
       "1968              46\n",
       "1969              72\n",
       "1970              81\n",
       "1971              75\n",
       "1972              50\n",
       "1973             104\n",
       "1974              48\n",
       "1975              83\n",
       "1976              56\n",
       "1977              83\n",
       "1978              64\n",
       "1979              63\n",
       "1980              70\n",
       "1981              61\n",
       "1982              54\n",
       "1983              60\n",
       "1984              51\n",
       "1985              39\n",
       "1986              37\n",
       "1987              39\n",
       "1988              29\n",
       "1989              32\n",
       "1990              22\n",
       "1991              34\n",
       "1992              14\n",
       "1993              19\n",
       "1994              25\n",
       "1995              10\n",
       "1996               9\n",
       "1997               9\n",
       "1998               6\n",
       "1999              13\n",
       "2000               3\n",
       "2001               4\n",
       "2002               6\n",
       "2003               3\n",
       "2004               5\n",
       "2005               5\n",
       "2006               1\n",
       "2007               3\n",
       "2008               3\n",
       "2011               3\n",
       "2012               5\n",
       "2013               2\n",
       "2014               2\n",
       "SONGFACTS.COM      1\n",
       "Name: releaseYear, dtype: int64"
      ]
     },
     "execution_count": 56,
     "metadata": {},
     "output_type": "execute_result"
    }
   ],
   "source": [
    "#  Why is releaseYear not numeric?\n",
    "songs.releaseYear.value_counts().sort_index()"
   ]
  },
  {
   "cell_type": "code",
   "execution_count": 68,
   "metadata": {},
   "outputs": [],
   "source": [
    "## Silly, but let's fill null values with 1900 -- almost never a good idea!\n",
    "songs.releaseYear = songs.releaseYear.fillna('1900')"
   ]
  },
  {
   "cell_type": "code",
   "execution_count": 73,
   "metadata": {},
   "outputs": [
    {
     "data": {
      "text/plain": [
       "1900    579\n",
       "1955      1\n",
       "1958      1\n",
       "1961      1\n",
       "1962      3\n",
       "1963      9\n",
       "1964     14\n",
       "1965     28\n",
       "1966     30\n",
       "1967     61\n",
       "1968     46\n",
       "1969     72\n",
       "1970     81\n",
       "1971     75\n",
       "1972     50\n",
       "1973    104\n",
       "1974     48\n",
       "1975     83\n",
       "1976     56\n",
       "1977     83\n",
       "1978     64\n",
       "1979     63\n",
       "1980     70\n",
       "1981     61\n",
       "1982     54\n",
       "1983     60\n",
       "1984     51\n",
       "1985     39\n",
       "1986     37\n",
       "1987     39\n",
       "1988     29\n",
       "1989     32\n",
       "1990     22\n",
       "1991     34\n",
       "1992     14\n",
       "1993     19\n",
       "1994     25\n",
       "1995     10\n",
       "1996      9\n",
       "1997      9\n",
       "1998      6\n",
       "1999     13\n",
       "2000      3\n",
       "2001      4\n",
       "2002      6\n",
       "2003      3\n",
       "2004      5\n",
       "2005      5\n",
       "2006      1\n",
       "2007      3\n",
       "2008      3\n",
       "2011      3\n",
       "2012      5\n",
       "2013      2\n",
       "2014      2\n",
       "Name: releaseYear, dtype: int64"
      ]
     },
     "execution_count": 73,
     "metadata": {},
     "output_type": "execute_result"
    }
   ],
   "source": [
    "songs.releaseYear.value_counts().sort_index()"
   ]
  },
  {
   "cell_type": "code",
   "execution_count": 72,
   "metadata": {},
   "outputs": [
    {
     "name": "stderr",
     "output_type": "stream",
     "text": [
      "C:\\ProgramData\\Anaconda3\\lib\\site-packages\\ipykernel_launcher.py:1: SettingWithCopyWarning: \n",
      "A value is trying to be set on a copy of a slice from a DataFrame\n",
      "\n",
      "See the caveats in the documentation: http://pandas.pydata.org/pandas-docs/stable/indexing.html#indexing-view-versus-copy\n",
      "  \"\"\"Entry point for launching an IPython kernel.\n",
      "C:\\ProgramData\\Anaconda3\\lib\\site-packages\\ipykernel_launcher.py:2: SettingWithCopyWarning: \n",
      "A value is trying to be set on a copy of a slice from a DataFrame\n",
      "\n",
      "See the caveats in the documentation: http://pandas.pydata.org/pandas-docs/stable/indexing.html#indexing-view-versus-copy\n",
      "  \n"
     ]
    }
   ],
   "source": [
    "songs.releaseYear[songs.releaseYear == 'SONGFACTS.COM'] = '1900'\n",
    "songs.releaseYear[songs.releaseYear == '1071'] = '1900'\n",
    "## And do the same for 1071 -- notice we now have an integer column"
   ]
  },
  {
   "cell_type": "code",
   "execution_count": 79,
   "metadata": {},
   "outputs": [
    {
     "data": {
      "text/plain": [
       "2       1\n",
       "3      11\n",
       "4      33\n",
       "5      42\n",
       "6      43\n",
       "7      68\n",
       "8      79\n",
       "9      99\n",
       "10    135\n",
       "11    135\n",
       "12    142\n",
       "13    148\n",
       "14    142\n",
       "15    131\n",
       "16    152\n",
       "17    121\n",
       "18    112\n",
       "19    104\n",
       "20     83\n",
       "21     67\n",
       "22     64\n",
       "23     57\n",
       "24     43\n",
       "25     28\n",
       "26     31\n",
       "27     30\n",
       "28     24\n",
       "29     12\n",
       "30     17\n",
       "31     12\n",
       "32     10\n",
       "33      7\n",
       "34      8\n",
       "35     10\n",
       "36      5\n",
       "37      4\n",
       "38      4\n",
       "39      1\n",
       "40      1\n",
       "41      2\n",
       "42      1\n",
       "43      2\n",
       "46      1\n",
       "47      1\n",
       "48      1\n",
       "52      1\n",
       "55      2\n",
       "56      1\n",
       "57      1\n",
       "59      1\n",
       "Name: title, dtype: int64"
      ]
     },
     "execution_count": 79,
     "metadata": {},
     "output_type": "execute_result"
    }
   ],
   "source": [
    "songs.title.map(len).value_counts().sort_index()"
   ]
  },
  {
   "cell_type": "code",
   "execution_count": 78,
   "metadata": {},
   "outputs": [
    {
     "data": {
      "text/plain": [
       "1566    45\n",
       "Name: title, dtype: object"
      ]
     },
     "execution_count": 78,
     "metadata": {},
     "output_type": "execute_result"
    }
   ],
   "source": [
    "songs.title[songs.title.apply(lambda s: len(s) <= 2)]"
   ]
  },
  {
   "cell_type": "code",
   "execution_count": 80,
   "metadata": {},
   "outputs": [
    {
     "name": "stdout",
     "output_type": "stream",
     "text": [
      "(2230, 3)\n",
      "(12, 3)\n"
     ]
    }
   ],
   "source": [
    "## Delete rows with mutant titles\n",
    "print(songs.shape)\n",
    "songs = songs[songs.title.map(len) <= 3]\n",
    "print(songs.shape)"
   ]
  },
  {
   "cell_type": "code",
   "execution_count": null,
   "metadata": {},
   "outputs": [],
   "source": []
  }
 ],
 "metadata": {
  "anaconda-cloud": {},
  "kernelspec": {
   "display_name": "Python 3",
   "language": "python",
   "name": "python3"
  },
  "language_info": {
   "codemirror_mode": {
    "name": "ipython",
    "version": 3
   },
   "file_extension": ".py",
   "mimetype": "text/x-python",
   "name": "python",
   "nbconvert_exporter": "python",
   "pygments_lexer": "ipython3",
   "version": "3.7.0"
  }
 },
 "nbformat": 4,
 "nbformat_minor": 1
}
